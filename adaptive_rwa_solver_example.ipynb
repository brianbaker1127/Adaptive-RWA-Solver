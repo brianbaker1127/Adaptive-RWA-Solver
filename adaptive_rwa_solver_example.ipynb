{
 "cells": [
  {
   "cell_type": "code",
   "execution_count": 1,
   "metadata": {},
   "outputs": [],
   "source": [
    "from __future__ import division\n",
    "from __future__ import print_function\n",
    "\n",
    "import matplotlib.pyplot as plt\n",
    "import numpy as np\n",
    "\n",
    "import multiprocessing as mp\n",
    "import time\n",
    "\n",
    "# need qutip to run adaptive solver\n",
    "import qutip as qt\n",
    "\n",
    "import adaptive_rwa_solver as ars"
   ]
  },
  {
   "cell_type": "markdown",
   "metadata": {},
   "source": [
    "## set up system (here we have just a qubit coupled to a driven resonator)"
   ]
  },
  {
   "cell_type": "code",
   "execution_count": 6,
   "metadata": {},
   "outputs": [],
   "source": [
    "omega_q = 1.0 # qubit frequency\n",
    "omega_r = 1.0 # resonator frequency\n",
    "g = 0.1 # coupling strength\n",
    "kappa = 0.001 # resonator leakage rate\n",
    "gamma = 0.001 # qubit leakage rate\n",
    "zeta = 0.001 # drive strength\n",
    "omega_d = 1.0\n",
    "T = 0.01 # temperature in Kelvin\n",
    "kb = 1.3806e-23\n",
    "h = 6.626e-34\n",
    "hbar = h / (2*np.pi)\n",
    "beta = 1./(kb*T)\n",
    "giga = 1e9\n",
    "\n",
    "res_dim = 10\n",
    "\n",
    "a  = qt.tensor(qt.qeye(2), qt.destroy(res_dim))\n",
    "sm = qt.tensor(qt.destroy(2), qt.qeye(res_dim))\n",
    "sx = sm + sm.dag()\n",
    "x = a + a.dag()\n",
    "\n",
    "H = omega_r * a.dag() * a + omega_q * sm.dag() * sm + g * (sm * a.dag() + sm.dag() * a)\n",
    "# Standard J-C Hamiltonian\n",
    "evals, evecs = H.eigenstates()"
   ]
  },
  {
   "cell_type": "markdown",
   "metadata": {},
   "source": [
    "## set up decoherence rates"
   ]
  },
  {
   "cell_type": "code",
   "execution_count": 7,
   "metadata": {},
   "outputs": [],
   "source": [
    "rates = np.zeros(shape=(2*res_dim, 2*res_dim))\n",
    "# note these rates are rates between eigenstates of dressed system, so they consist of matrix elements of annhilation op/\n",
    "# sigma_minus in dressed basis\n",
    "for index1 in range(2*res_dim):\n",
    "    for index2 in range(index1):\n",
    "        exponent = hbar * beta * giga * (evals[index1] - evals[index2])\n",
    "        # downward rate (contribution from both resonator and qubit leakage, and finite temperature)\n",
    "        rates[index1][index2] =  (gamma * abs(sx.matrix_element(evecs[index2],evecs[index1]))**2 + kappa * abs(x.matrix_element(evecs[index2],evecs[index1]))**2) * (np.exp(exponent) / (np.exp(exponent) - 1.0))\n",
    "        # upward rate\n",
    "        rates[index2][index1] =  rates[index1][index2] *  np.exp(-exponent)   "
   ]
  },
  {
   "cell_type": "markdown",
   "metadata": {},
   "source": [
    "## solve for steady-state"
   ]
  },
  {
   "cell_type": "code",
   "execution_count": 8,
   "metadata": {},
   "outputs": [],
   "source": [
    "open_qubit_resonator = ars.DrivenOpenSystem(H,rates,zeta*a,omega_d)"
   ]
  },
  {
   "cell_type": "code",
   "execution_count": 9,
   "metadata": {},
   "outputs": [
    {
     "name": "stdout",
     "output_type": "stream",
     "text": [
      "time elapsed: 15.309338 seconds\n"
     ]
    }
   ],
   "source": [
    "start = time.time()\n",
    "rho_s = open_qubit_resonator.adaptive_rwa_solve()\n",
    "end = time.time()\n",
    "print('time elapsed: %f seconds' % (end - start))"
   ]
  },
  {
   "cell_type": "markdown",
   "metadata": {},
   "source": [
    "## calculate resonator transmission"
   ]
  },
  {
   "cell_type": "code",
   "execution_count": 37,
   "metadata": {},
   "outputs": [
    {
     "name": "stdout",
     "output_type": "stream",
     "text": [
      "0.02242046915492492\n"
     ]
    }
   ],
   "source": [
    "transmission = abs(qt.expect(a, rho_s))\n",
    "print(transmission)"
   ]
  },
  {
   "cell_type": "markdown",
   "metadata": {},
   "source": [
    "## calculate resonator transmission for a range of tones (done in parallel) "
   ]
  },
  {
   "cell_type": "code",
   "execution_count": 10,
   "metadata": {},
   "outputs": [],
   "source": [
    "# need this function to parallelize\n",
    "def parallel_map(f, a_list, *args, **kw):\n",
    "    pool=mp.Pool(*args, **kw)\n",
    "\n",
    "    result=pool.map(f, a_list)\n",
    "\n",
    "    try:\n",
    "        pool.close()\n",
    "        pool.terminate()\n",
    "    except:\n",
    "        pass\n",
    "\n",
    "    return result\n",
    "\n",
    "number_of_threads = 24"
   ]
  },
  {
   "cell_type": "code",
   "execution_count": 11,
   "metadata": {},
   "outputs": [
    {
     "data": {
      "image/png": "[encoded data removed]",
      "text/plain": [
       "<Figure size 432x288 with 1 Axes>"
      ]
     },
     "metadata": {},
     "output_type": "display_data"
    }
   ],
   "source": [
    "frequency_list = np.linspace(omega_r - 0.5, omega_r + 0.5,200)\n",
    "#transmission_5mK = np.empty(shape=(1, len(frequency_list)))\n",
    "transmission_10mK = np.empty(shape=(1, len(frequency_list)))\n",
    "#transmission_20mK = np.empty(shape=(1, len(frequency_list)))\n",
    "def parallel_solve(frequency):\n",
    "    open_qubit_resonator = ars.DrivenOpenSystem(H,rates,zeta*a,frequency)\n",
    "    rho_s = open_qubit_resonator.adaptive_rwa_solve()\n",
    "    return rho_s\n",
    "    \n",
    "rho_s = parallel_map(parallel_solve, frequency_list, number_of_threads)\n",
    "transmission_10mK = [abs(qt.expect(a, r))  for omega,r in enumerate(rho_s)]\n",
    "\n",
    "plt.plot(frequency_list, transmission_20mK)\n",
    "plt.plot(frequency_list, transmission_10mK)\n",
    "plt.show()"
   ]
  },
  {
   "cell_type": "code",
   "execution_count": null,
   "metadata": {},
   "outputs": [],
   "source": []
  }
 ],
 "metadata": {
  "kernelspec": {
   "display_name": "Python 3",
   "language": "python",
   "name": "python3"
  },
  "language_info": {
   "codemirror_mode": {
    "name": "ipython",
    "version": 3
   },
   "file_extension": ".py",
   "mimetype": "text/x-python",
   "name": "python",
   "nbconvert_exporter": "python",
   "pygments_lexer": "ipython3",
   "version": "3.5.2"
  }
 },
 "nbformat": 4,
 "nbformat_minor": 2
}
