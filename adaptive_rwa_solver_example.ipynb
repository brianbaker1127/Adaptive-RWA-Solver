{
 "cells": [
  {
   "cell_type": "code",
   "execution_count": 1,
   "metadata": {},
   "outputs": [],
   "source": [
    "from __future__ import division\n",
    "from __future__ import print_function\n",
    "\n",
    "import matplotlib.pyplot as plt\n",
    "from matplotlib.ticker import AutoMinorLocator\n",
    "import numpy as np\n",
    "\n",
    "import multiprocessing as mp\n",
    "import time\n",
    "from functools import partial\n",
    "\n",
    "# need qutip to run adaptive solver\n",
    "import qutip as qt\n",
    "\n",
    "import adaptive_rwa_solver as ars"
   ]
  },
  {
   "cell_type": "markdown",
   "metadata": {},
   "source": [
    "## set up system (here we have just a qubit coupled to a driven resonator)"
   ]
  },
  {
   "cell_type": "code",
   "execution_count": 2,
   "metadata": {},
   "outputs": [
    {
     "name": "stdout",
     "output_type": "stream",
     "text": [
      "[ 0.          0.9         1.1         1.85857864  2.14142136  2.82679492\n",
      "  3.17320508  3.8         4.2         4.7763932   5.2236068   5.75505103\n",
      "  6.24494897  6.73542487  7.26457513  7.71715729  8.28284271  8.7\n",
      "  9.3        10.        ]\n"
     ]
    }
   ],
   "source": [
    "omega_q = 1.0 # qubit frequency\n",
    "omega_r = 1.0 # resonator frequency\n",
    "g = 0.1 # coupling strength\n",
    "kappa = 0.001 # resonator leakage rate\n",
    "gamma = 0.001 # qubit leakage rate\n",
    "zeta = 0.001 # drive strength\n",
    "omega_d = 1.0\n",
    "T = 0.005 # temperature in Kelvin\n",
    "kb = 1.3806e-23\n",
    "h = 6.626e-34\n",
    "hbar = h / (2*np.pi)\n",
    "beta = 1./(kb*T)\n",
    "giga = 1e9\n",
    "\n",
    "res_dim = 10\n",
    "\n",
    "a  = qt.tensor(qt.qeye(2), qt.destroy(res_dim))\n",
    "sm = qt.tensor(qt.destroy(2), qt.qeye(res_dim))\n",
    "sx = sm + sm.dag()\n",
    "x = a + a.dag()\n",
    "\n",
    "H = omega_r * a.dag() * a + omega_q * sm.dag() * sm + g * (sm * a.dag() + sm.dag() * a)\n",
    "# Standard J-C Hamiltonian\n",
    "eigensystem = H.eigenstates()\n",
    "evals = eigensystem[0]\n",
    "evecs = eigensystem[1]\n",
    "print(evals)"
   ]
  },
  {
   "cell_type": "markdown",
   "metadata": {},
   "source": [
    "## set up decoherence rates"
   ]
  },
  {
   "cell_type": "code",
   "execution_count": 3,
   "metadata": {},
   "outputs": [],
   "source": [
    "rates = np.zeros(shape=(2*res_dim, 2*res_dim))\n",
    "# note these rates are rates between eigenstates of dressed system, so they consist of matrix elements of annhilation op/\n",
    "# sigma_minus in dressed basis\n",
    "for index1 in range(2*res_dim):\n",
    "    for index2 in range(index1):\n",
    "        exponent = hbar * beta * giga * (evals[index1] - evals[index2])\n",
    "        # downward rate (contribution from both resonator and qubit leakage, and finite temperature)\n",
    "        rates[index1][index2] =  (gamma * abs(sx.matrix_element(evecs[index2],evecs[index1]))**2 + kappa * abs(x.matrix_element(evecs[index2],evecs[index1]))**2) * (np.exp(exponent) / (np.exp(exponent) - 1.0))\n",
    "        # upward rate\n",
    "        rates[index2][index1] =  rates[index1][index2] *  np.exp(-exponent)   "
   ]
  },
  {
   "cell_type": "markdown",
   "metadata": {},
   "source": [
    "## solve for steady-state"
   ]
  },
  {
   "cell_type": "code",
   "execution_count": 4,
   "metadata": {},
   "outputs": [],
   "source": [
    "open_qubit_resonator = ars.DrivenOpenSystem(H,rates,zeta*a,omega_d)"
   ]
  },
  {
   "cell_type": "code",
   "execution_count": 5,
   "metadata": {},
   "outputs": [
    {
     "name": "stdout",
     "output_type": "stream",
     "text": [
      "[0, 1, 1, 2, 2, 3, 3, 4, 4, 5, 5, 6, 6, 7, 7, 8, 8, 9, 9, 10]\n",
      "time elapsed:\n",
      "15.45469856262207\n"
     ]
    }
   ],
   "source": [
    "start = time.time()\n",
    "rho_s = open_qubit_resonator.adaptive_rwa_solve()\n",
    "end = time.time()\n",
    "print('time elapsed:')\n",
    "print(end - start)"
   ]
  },
  {
   "cell_type": "markdown",
   "metadata": {},
   "source": [
    "## calculate resonator transmission"
   ]
  },
  {
   "cell_type": "code",
   "execution_count": 37,
   "metadata": {},
   "outputs": [
    {
     "name": "stdout",
     "output_type": "stream",
     "text": [
      "0.02242046915492492\n"
     ]
    }
   ],
   "source": [
    "transmission = abs(qt.expect(a, rho_s))\n",
    "print(transmission)"
   ]
  },
  {
   "cell_type": "markdown",
   "metadata": {},
   "source": [
    "## calculate resonator transmission for a range of tones (done in parallel) "
   ]
  },
  {
   "cell_type": "code",
   "execution_count": 4,
   "metadata": {},
   "outputs": [],
   "source": [
    "# need this function to parallelize\n",
    "def parallel_map(f, a_list, *args, **kw):\n",
    "    pool=mp.Pool(*args, **kw)\n",
    "\n",
    "    result=pool.map(f, a_list)\n",
    "\n",
    "    try:\n",
    "        pool.close()\n",
    "        pool.terminate()\n",
    "    except:\n",
    "        pass\n",
    "\n",
    "    return result\n",
    "\n",
    "number_of_threads = 24"
   ]
  },
  {
   "cell_type": "code",
   "execution_count": 5,
   "metadata": {},
   "outputs": [
    {
     "ename": "NameError",
     "evalue": "name 'transmission_10mK' is not defined",
     "output_type": "error",
     "traceback": [
      "\u001b[0;31m---------------------------------------------------------------------------\u001b[0m",
      "\u001b[0;31mNameError\u001b[0m                                 Traceback (most recent call last)",
      "\u001b[0;32m<ipython-input-5-6888d073e0b4>\u001b[0m in \u001b[0;36m<module>\u001b[0;34m()\u001b[0m\n\u001b[1;32m     12\u001b[0m \u001b[0;34m\u001b[0m\u001b[0m\n\u001b[1;32m     13\u001b[0m \u001b[0mplt\u001b[0m\u001b[0;34m.\u001b[0m\u001b[0mplot\u001b[0m\u001b[0;34m(\u001b[0m\u001b[0mfrequency_list\u001b[0m\u001b[0;34m,\u001b[0m \u001b[0mtransmission_5mK\u001b[0m\u001b[0;34m)\u001b[0m\u001b[0;34m\u001b[0m\u001b[0m\n\u001b[0;32m---> 14\u001b[0;31m \u001b[0mplt\u001b[0m\u001b[0;34m.\u001b[0m\u001b[0mplot\u001b[0m\u001b[0;34m(\u001b[0m\u001b[0mfrequency_list\u001b[0m\u001b[0;34m,\u001b[0m \u001b[0mtransmission_10mK\u001b[0m\u001b[0;34m)\u001b[0m\u001b[0;34m\u001b[0m\u001b[0m\n\u001b[0m\u001b[1;32m     15\u001b[0m \u001b[0mplt\u001b[0m\u001b[0;34m.\u001b[0m\u001b[0mplot\u001b[0m\u001b[0;34m(\u001b[0m\u001b[0mfrequency_list\u001b[0m\u001b[0;34m,\u001b[0m \u001b[0mtransmission_20mK\u001b[0m\u001b[0;34m)\u001b[0m\u001b[0;34m\u001b[0m\u001b[0m\n\u001b[1;32m     16\u001b[0m \u001b[0;34m\u001b[0m\u001b[0m\n",
      "\u001b[0;31mNameError\u001b[0m: name 'transmission_10mK' is not defined"
     ]
    },
    {
     "data": {
      "image/png": "[encoded data removed]",
      "text/plain": [
       "<Figure size 432x288 with 1 Axes>"
      ]
     },
     "metadata": {},
     "output_type": "display_data"
    }
   ],
   "source": [
    "frequency_list = np.linspace(omega_r - 0.5, omega_r + 0.5,200)\n",
    "transmission_5mK = np.empty(shape=(1, len(frequency_list)))\n",
    "#transmission_10mK = np.empty(shape=(1, len(frequency_list)))\n",
    "#transmission_20mK = np.empty(shape=(1, len(frequency_list)))\n",
    "def parallel_solve(frequency):\n",
    "    open_qubit_resonator = ars.DrivenOpenSystem(H,rates,zeta*a,frequency)\n",
    "    rho_s = open_qubit_resonator.adaptive_rwa_solve()\n",
    "    return rho_s\n",
    "    \n",
    "rho_s = parallel_map(parallel_solve, frequency_list, number_of_threads)\n",
    "transmission_5mK = [abs(qt.expect(a, r))  for omega,r in enumerate(rho_s)]\n",
    "\n",
    "plt.plot(frequency_list, transmission_5mK)\n",
    "plt.plot(frequency_list, transmission_10mK)\n",
    "plt.plot(frequency_list, transmission_20mK)\n",
    "\n",
    "plt.show()"
   ]
  },
  {
   "cell_type": "code",
   "execution_count": null,
   "metadata": {},
   "outputs": [],
   "source": []
  }
 ],
 "metadata": {
  "kernelspec": {
   "display_name": "Python 3",
   "language": "python",
   "name": "python3"
  },
  "language_info": {
   "codemirror_mode": {
    "name": "ipython",
    "version": 3
   },
   "file_extension": ".py",
   "mimetype": "text/x-python",
   "name": "python",
   "nbconvert_exporter": "python",
   "pygments_lexer": "ipython3",
   "version": "3.5.2"
  }
 },
 "nbformat": 4,
 "nbformat_minor": 2
}
